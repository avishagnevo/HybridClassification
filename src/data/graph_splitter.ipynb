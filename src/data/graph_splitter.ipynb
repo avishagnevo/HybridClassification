{
 "cells": [
  {
   "cell_type": "markdown",
   "id": "970300c9",
   "metadata": {},
   "source": [
    "use this file to create the subgraphs"
   ]
  },
  {
   "cell_type": "code",
   "execution_count": 1,
   "id": "c2c57161",
   "metadata": {},
   "outputs": [
    {
     "data": {
      "text/plain": [
       "<module 'helpers' from '/Users/avishagnevo/Desktop/archi_project/src/helpers.py'>"
      ]
     },
     "execution_count": 1,
     "metadata": {},
     "output_type": "execute_result"
    }
   ],
   "source": [
    "import json\n",
    "import networkx as nx\n",
    "import os\n",
    "import helpers\n",
    "import importlib\n",
    "importlib.reload(helpers)\n"
   ]
  },
  {
   "cell_type": "code",
   "execution_count": 2,
   "id": "162a6da5",
   "metadata": {},
   "outputs": [],
   "source": [
    "def CreateSubgraphs(_elements,_G):\n",
    "  subgraphs = []\n",
    "  for start_node in _elements:\n",
    "    start_id = start_node['unique_id']\n",
    "    nebs = list(nx.neighbors(_G,start_id))\n",
    "    if len(nebs) == 0 : continue\n",
    "    node_adjacency = [[0 for i in range(len(nebs))] ,[i+1 for i in range(len(nebs))]]\n",
    "    nodes = [start_node]+ [element for element in _elements if element['unique_id'] in nebs]\n",
    "    subgraphs.append({\"nodes\":nodes, \"adj\":node_adjacency, \"node_id\" : start_id , \n",
    "                  \"category\": start_node[\"category_name\"], \"revit_id\": int(start_node['id'])})\n",
    "    #print (node_adjacency)\n",
    "    #print (len(nodes))\n",
    "  \n",
    "  print ('created ' + str(len(subgraphs)) + ' subgraphs') \n",
    "  return subgraphs"
   ]
  },
  {
   "cell_type": "code",
   "execution_count": 4,
   "id": "b2f21b51",
   "metadata": {},
   "outputs": [
    {
     "name": "stdout",
     "output_type": "stream",
     "text": [
      "opening /Users/avishagnevo/Desktop/archi_project/ifcnet-models-master/data/processed/ArcGNN/RevitBuildings/raw/(16.11) model - eyal beilis.json\n",
      "created 1094 subgraphs\n",
      "opening /Users/avishagnevo/Desktop/archi_project/ifcnet-models-master/data/processed/ArcGNN/RevitBuildings/raw/01.json\n",
      "created 4017 subgraphs\n",
      "opening /Users/avishagnevo/Desktop/archi_project/ifcnet-models-master/data/processed/ArcGNN/RevitBuildings/raw/(16.11) HLIN-bld 09.json\n",
      "created 4498 subgraphs\n",
      "opening /Users/avishagnevo/Desktop/archi_project/ifcnet-models-master/data/processed/ArcGNN/RevitBuildings/raw/(16.11) RAW-A-TOWER_detached(2).json\n",
      "created 6709 subgraphs\n",
      "opening /Users/avishagnevo/Desktop/archi_project/ifcnet-models-master/data/processed/ArcGNN/RevitBuildings/raw/HADAR-42.json\n",
      "created 3217 subgraphs\n",
      "opening /Users/avishagnevo/Desktop/archi_project/ifcnet-models-master/data/processed/ArcGNN/RevitBuildings/raw/(16.11) Bld type3 - doors not window.json\n",
      "created 6247 subgraphs\n",
      "opening /Users/avishagnevo/Desktop/archi_project/ifcnet-models-master/data/processed/ArcGNN/RevitBuildings/raw/(16.11) 1033.json\n",
      "created 5966 subgraphs\n",
      "opening /Users/avishagnevo/Desktop/archi_project/ifcnet-models-master/data/processed/ArcGNN/RevitBuildings/raw/(16.11) 02.json\n",
      "created 4290 subgraphs\n",
      "opening /Users/avishagnevo/Desktop/archi_project/ifcnet-models-master/data/processed/ArcGNN/RevitBuildings/raw/BERESHIT-001 .json\n",
      "created 3186 subgraphs\n",
      "opening /Users/avishagnevo/Desktop/archi_project/ifcnet-models-master/data/processed/ArcGNN/RevitBuildings/raw/(16.11) 03.json\n",
      "created 539 subgraphs\n",
      "opening /Users/avishagnevo/Desktop/archi_project/ifcnet-models-master/data/processed/ArcGNN/RevitBuildings/raw/(16.11) YMCB_V02_B.json\n",
      "created 3111 subgraphs\n"
     ]
    }
   ],
   "source": [
    "json_path = '/Users/avishagnevo/Desktop/archi_project/ifcnet-models-master/data/processed/ArcGNN/RevitBuildings/raw'\n",
    "output_path = '/Users/avishagnevo/Desktop/archi_project/ifcnet-models-master/data/processed/ArcGNN/RevitBuildings/subgraphs'\n",
    "\n",
    "file_list = os.listdir(json_path) \n",
    "\n",
    "for file_name in file_list:\n",
    "  file = os.path.join(json_path, file_name)\n",
    "  print ('opening ' + file)\n",
    "  with open(file, encoding=\"utf8\") as f:\n",
    "    json_data = json.load(f)\n",
    "    edges = json_data['edges'][0]['relations'] #### the 2nd index depicts the type of relation\n",
    "    elements = json_data['elements_data']\n",
    "    G = helpers.CreateGraph(elements,edges)\n",
    "    subgraphs = CreateSubgraphs(elements, G)\n",
    "    #### the 2nd index depicts the type of relation, 0  is intersections \n",
    "    f.close()\n",
    "\n",
    "  outfile = os.path.join(output_path, file_name[:-5]+ '_subgraphs.json')\n",
    "  with open(outfile, 'w', encoding=\"utf8\") as fout:\n",
    "    json.dump(subgraphs, fout)\n",
    "    fout.close()"
   ]
  },
  {
   "cell_type": "code",
   "execution_count": null,
   "id": "236c3e7a",
   "metadata": {},
   "outputs": [],
   "source": []
  }
 ],
 "metadata": {
  "kernelspec": {
   "display_name": "Python 3 (ipykernel)",
   "language": "python",
   "name": "python3"
  },
  "language_info": {
   "codemirror_mode": {
    "name": "ipython",
    "version": 3
   },
   "file_extension": ".py",
   "mimetype": "text/x-python",
   "name": "python",
   "nbconvert_exporter": "python",
   "pygments_lexer": "ipython3",
   "version": "3.0.0"
  }
 },
 "nbformat": 4,
 "nbformat_minor": 5
}
