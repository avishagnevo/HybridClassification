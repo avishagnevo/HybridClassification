{
 "cells": [
  {
   "cell_type": "code",
   "execution_count": 1,
   "id": "wicked-proposal",
   "metadata": {},
   "outputs": [],
   "source": [
    "%reload_ext autoreload\n",
    "%autoreload 2\n",
    "%matplotlib inline"
   ]
  },
  {
   "cell_type": "code",
   "execution_count": 4,
   "id": "secret-policy",
   "metadata": {},
   "outputs": [],
   "source": [
    "# Standard library imports\n",
    "import json\n",
    "import logging\n",
    "import os\n",
    "import random\n",
    "from datetime import datetime\n",
    "from pathlib import Path\n",
    "\n",
    "# Third-party imports\n",
    "import matplotlib.pyplot as plt\n",
    "import numpy as np\n",
    "import pandas as pd\n",
    "import seaborn as sn\n",
    "import sklearn.metrics as metrics\n",
    "import torch\n",
    "import torch.nn as nn\n",
    "import torch.nn.functional as F\n",
    "import torch.optim as optim\n",
    "from PIL import Image\n",
    "from sklearn.preprocessing import label_binarize\n",
    "from torch.utils.data import DataLoader, Subset\n",
    "from torch_geometric.data import Batch, DataLoader as PyGDataLoader, Data, Dataset\n",
    "from torchvision.transforms import transforms\n",
    "from tqdm import tqdm\n",
    "\n",
    "# Local application/library specific imports\n",
    "from src.data.dataset import GNNArchitecturalDataset, HybridDataset, IFCNetNumpy, IFCNetPly, MultiviewImgDataset\n",
    "from src.data.util import read_ply\n",
    "from src.models.models import ArcGNN, HybridModel, MVCNN, SVCNN\n",
    "from src.models.Trainer import Trainer\n",
    "from src.models.arcgnn import train_arc_gnn\n",
    "from src.models.mvcnn import _get_mvcnn_datasets, train_mvcnn\n"
   ]
  },
  {
   "cell_type": "code",
   "execution_count": 9,
   "id": "eligible-maine",
   "metadata": {},
   "outputs": [],
   "source": [
    "\n",
    "log_dir = Path(f\"./logs/HybridModel\")\n",
    "log_dir.mkdir(exist_ok=True, parents=True)\n",
    "data_root_gnn = Path('/Users/avishagnevo/Desktop/archi_project/ifcnet-models-master/data/processed/ArcGNN/RevitBuildings')\n",
    "data_root_cnn = Path('/Users/avishagnevo/Desktop/archi_project/ifcnet-models-master/data/processed/MVCNN/IFCNetCore')\n",
    "\n",
    "category_mapping = { # to sample matching IFCNetCore classes and ArcGNN categories\n",
    "\"Walls\": \"IfcWall\",\n",
    "\"Furniture\": \"IfcFurniture\",\n",
    "\"Doors\": \"IfcDoor\",\n",
    "\"Windows\": \"IfcDoor\", #not in IFC dataset\n",
    "\"Floors\": \"IfcWall\", #not in IFC dataset\n",
    "\"Plumbing Fixtures\": \"IfcSanitaryTerminal\",\n",
    "\"Structural Columns\": \"IfcBeam\",\n",
    "\"Railings\": \"IfcRailing\",\n",
    "\"Structural Framing\": \"IfcBeam\", #not in IFC dataset\n",
    "\"Stairs\": \"IfcStair\"\n",
    "}    "
   ]
  },
  {
   "cell_type": "code",
   "execution_count": 10,
   "id": "ce60635d",
   "metadata": {},
   "outputs": [],
   "source": [
    "\n",
    "# Configuration parameters\n",
    "config_hybrid = {\n",
    "            \"batch_size\": 1,\n",
    "            \"learning_rate\": 0.001,\n",
    "            \"weight_decay\": 5e-4,\n",
    "            \"epochs\": 3,\n",
    "            # Add other necessary configuration parameters here\n",
    "        }\n",
    "\n",
    "config_mvcnn = {\n",
    "            \"batch_size\": 64,\n",
    "            \"cnn_name\": \"vgg11\",\n",
    "            \"epochs\": 30,\n",
    "            \"learning_rate\": 1.3529557841712963e-05,\n",
    "            \"num_views\": 12,\n",
    "            \"pretrained\": True,\n",
    "            \"weight_decay\": 0.00019094898290886048\n",
    "        }\n",
    "\n",
    "config_arcgnn = {\n",
    "            \"batch_size\": 1,\n",
    "            \"learning_rate\": 0.001,\n",
    "            \"weight_decay\": 5e-4,\n",
    "            \"epochs\": 30,\n",
    "            # Add other necessary configuration parameters here\n",
    "        }\n",
    "\n",
    "num_classes = len(category_mapping)\n",
    "batch_size = config_hybrid[\"batch_size\"]\n",
    "learning_rate = config_hybrid[\"learning_rate\"]\n",
    "weight_decay = config_hybrid[\"weight_decay\"]\n",
    "epochs = config_hybrid[\"epochs\"]\n",
    "num_views=config_mvcnn['num_views']\n",
    "cnn_name=config_mvcnn['cnn_name']\n",
    "\n",
    "\n",
    "model_dir = Path('/Users/avishagnevo/Desktop/archi_project/ifcnet-models-master/models/')\n",
    "\n",
    "\n",
    "num_node_features = 81  # Assuming each node has 81 features as defined earlier\n",
    "class_names = list(category_mapping.keys())\n"
   ]
  },
  {
   "cell_type": "code",
   "execution_count": 11,
   "id": "ef7811b4-d8f2-4c67-a22d-c149ead4dd95",
   "metadata": {},
   "outputs": [],
   "source": [
    "def hybrid_collate_fn(batch):\n",
    "    gnn_data_list = []\n",
    "    mvcnn_data_list = []\n",
    "    mvcnn_labels = []\n",
    "\n",
    "    for gnn_data, mvcnn_data in batch:\n",
    "        if gnn_data is not None and mvcnn_data is not None:\n",
    "            gnn_data_list.append(gnn_data)\n",
    "            mvcnn_data_list.append(mvcnn_data[0])  # Assuming mvcnn_data is a tuple of (data, label)\n",
    "            mvcnn_labels.append(mvcnn_data[1])\n",
    "\n",
    "    # Batch GNN data\n",
    "    gnn_batch = Batch.from_data_list(gnn_data_list)\n",
    "\n",
    "    mvcnn_batch = torch.cat(mvcnn_data_list, dim=0)  # Concatenate along the batch dimension\n",
    "    mvcnn_labels = torch.tensor(mvcnn_labels, dtype=torch.long)  # Repeat labels for each view\n",
    "\n",
    "    return gnn_batch, (mvcnn_batch, mvcnn_labels)\n"
   ]
  },
  {
   "cell_type": "code",
   "execution_count": 12,
   "id": "occasional-values",
   "metadata": {},
   "outputs": [
    {
     "name": "stderr",
     "output_type": "stream",
     "text": [
      "Processing...\n"
     ]
    },
    {
     "name": "stdout",
     "output_type": "stream",
     "text": [
      "There are 42874 files to use in /Users/avishagnevo/Desktop/archi_project/ifcnet-models-master/data/processed/ArcGNN/RevitBuildings/processed_subgraphs\n"
     ]
    },
    {
     "name": "stderr",
     "output_type": "stream",
     "text": [
      "Done!\n",
      "Processing...\n"
     ]
    },
    {
     "name": "stdout",
     "output_type": "stream",
     "text": [
      "There are 42874 files to use in /Users/avishagnevo/Desktop/archi_project/ifcnet-models-master/data/processed/ArcGNN/RevitBuildings/processed_subgraphs\n"
     ]
    },
    {
     "name": "stderr",
     "output_type": "stream",
     "text": [
      "Done!\n",
      "Processing...\n"
     ]
    },
    {
     "name": "stdout",
     "output_type": "stream",
     "text": [
      "There are 42874 files to use in /Users/avishagnevo/Desktop/archi_project/ifcnet-models-master/data/processed/ArcGNN/RevitBuildings/processed_subgraphs\n"
     ]
    },
    {
     "name": "stderr",
     "output_type": "stream",
     "text": [
      "Done!\n"
     ]
    }
   ],
   "source": [
    "\n",
    "train_dataset =  HybridDataset(data_root_gnn, data_root_cnn, category_mapping, partition=\"train\")\n",
    "val_dataset =  HybridDataset(data_root_gnn, data_root_cnn, category_mapping, partition=\"train\")\n",
    "test_dataset =  HybridDataset(data_root_gnn, data_root_cnn, category_mapping, partition=\"test\")\n",
    "\n",
    "np.random.seed(42)\n",
    "perm = np.random.permutation(range(len(train_dataset)))\n",
    "train_len = int(0.8 * len(train_dataset))\n",
    "train_dataset = Subset(train_dataset, perm[:train_len])\n",
    "val_dataset = Subset(val_dataset, perm[train_len:])\n",
    "\n",
    "train_loader = DataLoader(train_dataset, batch_size=batch_size, shuffle=True, collate_fn=hybrid_collate_fn)\n",
    "val_loader = DataLoader(val_dataset, batch_size=batch_size, collate_fn=hybrid_collate_fn)\n",
    "test_loader = DataLoader(test_dataset, batch_size=batch_size, collate_fn=hybrid_collate_fn)"
   ]
  },
  {
   "cell_type": "code",
   "execution_count": 24,
   "id": "buried-spectrum",
   "metadata": {},
   "outputs": [
    {
     "ename": "TypeError",
     "evalue": "super(type, obj): obj must be an instance or subtype of type",
     "output_type": "error",
     "traceback": [
      "\u001b[0;31m---------------------------------------------------------------------------\u001b[0m",
      "\u001b[0;31mTypeError\u001b[0m                                 Traceback (most recent call last)",
      "Cell \u001b[0;32mIn[24], line 3\u001b[0m\n\u001b[1;32m      1\u001b[0m \u001b[38;5;66;03m#model = ArcGNN(num_node_features=num_node_features, num_classes=num_classes)\u001b[39;00m\n\u001b[0;32m----> 3\u001b[0m arcgnn_model \u001b[38;5;241m=\u001b[39m \u001b[43mArcGNN\u001b[49m\u001b[43m(\u001b[49m\u001b[43mnum_node_features\u001b[49m\u001b[38;5;241;43m=\u001b[39;49m\u001b[43mnum_node_features\u001b[49m\u001b[43m,\u001b[49m\u001b[43m \u001b[49m\u001b[43mnum_classes\u001b[49m\u001b[38;5;241;43m=\u001b[39;49m\u001b[43mnum_classes\u001b[49m\u001b[43m)\u001b[49m  \n\u001b[1;32m      4\u001b[0m model_state, _ \u001b[38;5;241m=\u001b[39m torch\u001b[38;5;241m.\u001b[39mload(\u001b[38;5;124m'\u001b[39m\u001b[38;5;124m/Users/avishagnevo/Desktop/archi_project/ifcnet-models-master/models/ArcGNN_pretrained/ArcGNNWeights+Optimizer29\u001b[39m\u001b[38;5;124m'\u001b[39m)\n\u001b[1;32m      5\u001b[0m arcgnn_model\u001b[38;5;241m.\u001b[39mload_state_dict(model_state)\n",
      "File \u001b[0;32m~/Desktop/archi_project/ifcnet-models-master/src/models/models.py:125\u001b[0m, in \u001b[0;36mArcGNN.__init__\u001b[0;34m(self, num_node_features, num_classes)\u001b[0m\n\u001b[1;32m    124\u001b[0m \u001b[38;5;28;01mdef\u001b[39;00m \u001b[38;5;21m__init__\u001b[39m(\u001b[38;5;28mself\u001b[39m, num_node_features, num_classes):\n\u001b[0;32m--> 125\u001b[0m     \u001b[38;5;28;43msuper\u001b[39;49m\u001b[43m(\u001b[49m\u001b[43mArcGNN\u001b[49m\u001b[43m,\u001b[49m\u001b[43m \u001b[49m\u001b[38;5;28;43mself\u001b[39;49m\u001b[43m)\u001b[49m\u001b[38;5;241m.\u001b[39m\u001b[38;5;21m__init__\u001b[39m()\n\u001b[1;32m    126\u001b[0m     \u001b[38;5;28mself\u001b[39m\u001b[38;5;241m.\u001b[39mmodel_name \u001b[38;5;241m=\u001b[39m \u001b[38;5;124m\"\u001b[39m\u001b[38;5;124mArcGNN\u001b[39m\u001b[38;5;124m\"\u001b[39m\n\u001b[1;32m    127\u001b[0m     \u001b[38;5;28mself\u001b[39m\u001b[38;5;241m.\u001b[39mconv1 \u001b[38;5;241m=\u001b[39m GCNConv(num_node_features, \u001b[38;5;241m128\u001b[39m) \u001b[38;5;66;03m#TODO\u001b[39;00m\n",
      "\u001b[0;31mTypeError\u001b[0m: super(type, obj): obj must be an instance or subtype of type"
     ]
    }
   ],
   "source": [
    "#model = ArcGNN(num_node_features=num_node_features, num_classes=num_classes)\n",
    "\n",
    "arcgnn_model = ArcGNN(num_node_features=num_node_features, num_classes=num_classes)  \n",
    "model_state, _ = torch.load('/Users/avishagnevo/Desktop/archi_project/ifcnet-models-master/models/ArcGNN_pretrained/ArcGNNWeights+Optimizer29')\n",
    "arcgnn_model.load_state_dict(model_state)\n",
    "\n",
    "svcnn_model = SVCNN(num_classes, pretrained=True, cnn_name=cnn_name) \n",
    "model_state, _ = torch.load('/Users/avishagnevo/Desktop/archi_project/ifcnet-models-master/models/MVCNN_pretrained/SVCNNWeights+Optimizer3')\n",
    "svcnn_model.load_state_dict(model_state)\n",
    "\n",
    "mvcnn_model = MVCNN(svcnn_model, num_classes, num_views=num_views, cnn_name=cnn_name)\n",
    "model_state, _ = torch.load('/Users/avishagnevo/Desktop/archi_project/ifcnet-models-master/models/MVCNN_pretrained/MVCNNWeights+Optimizer0')\n",
    "mvcnn_model.load_state_dict(model_state)\n",
    "\n",
    "hybrid_model = HybridModel(arcgnn_model, mvcnn_model, num_classes=num_classes)\n",
    "model_state, _ = torch.load('/Users/avishagnevo/Desktop/archi_project/ifcnet-models-master/models/HybridModel_pretrained/HybridModelWeights+Optimizer1')\n",
    "hybrid_model.load_state_dict(model_state)\n",
    "    \n",
    "\n",
    "\n"
   ]
  },
  {
   "cell_type": "code",
   "execution_count": 16,
   "id": "checked-magnitude",
   "metadata": {},
   "outputs": [
    {
     "data": {
      "text/plain": [
       "HybridModel(\n",
       "  (arcgnn_model): ArcGNN(\n",
       "    (conv1): GCNConv(81, 128)\n",
       "    (conv2): GCNConv(128, 10)\n",
       "  )\n",
       "  (mvcnn_model): MVCNN(\n",
       "    (net_1): Sequential(\n",
       "      (0): Conv2d(3, 64, kernel_size=(3, 3), stride=(1, 1), padding=(1, 1))\n",
       "      (1): ReLU(inplace=True)\n",
       "      (2): MaxPool2d(kernel_size=2, stride=2, padding=0, dilation=1, ceil_mode=False)\n",
       "      (3): Conv2d(64, 128, kernel_size=(3, 3), stride=(1, 1), padding=(1, 1))\n",
       "      (4): ReLU(inplace=True)\n",
       "      (5): MaxPool2d(kernel_size=2, stride=2, padding=0, dilation=1, ceil_mode=False)\n",
       "      (6): Conv2d(128, 256, kernel_size=(3, 3), stride=(1, 1), padding=(1, 1))\n",
       "      (7): ReLU(inplace=True)\n",
       "      (8): Conv2d(256, 256, kernel_size=(3, 3), stride=(1, 1), padding=(1, 1))\n",
       "      (9): ReLU(inplace=True)\n",
       "      (10): MaxPool2d(kernel_size=2, stride=2, padding=0, dilation=1, ceil_mode=False)\n",
       "      (11): Conv2d(256, 512, kernel_size=(3, 3), stride=(1, 1), padding=(1, 1))\n",
       "      (12): ReLU(inplace=True)\n",
       "      (13): Conv2d(512, 512, kernel_size=(3, 3), stride=(1, 1), padding=(1, 1))\n",
       "      (14): ReLU(inplace=True)\n",
       "      (15): MaxPool2d(kernel_size=2, stride=2, padding=0, dilation=1, ceil_mode=False)\n",
       "      (16): Conv2d(512, 512, kernel_size=(3, 3), stride=(1, 1), padding=(1, 1))\n",
       "      (17): ReLU(inplace=True)\n",
       "      (18): Conv2d(512, 512, kernel_size=(3, 3), stride=(1, 1), padding=(1, 1))\n",
       "      (19): ReLU(inplace=True)\n",
       "      (20): MaxPool2d(kernel_size=2, stride=2, padding=0, dilation=1, ceil_mode=False)\n",
       "    )\n",
       "    (net_2): Sequential(\n",
       "      (0): Linear(in_features=25088, out_features=4096, bias=True)\n",
       "      (1): ReLU(inplace=True)\n",
       "      (2): Dropout(p=0.5, inplace=False)\n",
       "      (3): Linear(in_features=4096, out_features=4096, bias=True)\n",
       "      (4): ReLU(inplace=True)\n",
       "      (5): Dropout(p=0.5, inplace=False)\n",
       "      (6): Linear(in_features=4096, out_features=10, bias=True)\n",
       "    )\n",
       "  )\n",
       "  (classifier): Linear(in_features=20, out_features=10, bias=True)\n",
       ")"
      ]
     },
     "execution_count": 16,
     "metadata": {},
     "output_type": "execute_result"
    }
   ],
   "source": [
    "device = 'cpu' #torch.device(\"cuda\")\n",
    "arcgnn_model.to(device)\n",
    "svcnn_model.to(device)\n",
    "mvcnn_model.to(device)\n",
    "hybrid_model.to(device)"
   ]
  },
  {
   "cell_type": "code",
   "execution_count": 22,
   "id": "amateur-plasma",
   "metadata": {},
   "outputs": [],
   "source": [
    "def calc_metrics(probabilities, labels):\n",
    "    predictions = np.argmax(probabilities, axis=1)\n",
    "    print(predictions)\n",
    "\n",
    "    acc = metrics.accuracy_score(labels, predictions)\n",
    "    balanced_acc = metrics.balanced_accuracy_score(labels, predictions)\n",
    "    precision = metrics.precision_score(labels, predictions, average=\"weighted\")\n",
    "    recall = metrics.recall_score(labels, predictions, average=\"weighted\")\n",
    "    f1 = metrics.f1_score(labels, predictions, average=\"weighted\")\n",
    "\n",
    "    return {\n",
    "        f\"accuracy_score\": acc,\n",
    "        f\"balanced_accuracy_score\": balanced_acc,\n",
    "        f\"precision_score\": precision,\n",
    "        f\"recall_score\": recall,\n",
    "        f\"f1_score\": f1\n",
    "    }\n",
    "\n",
    "def plot_confusion_matrix(confusion_matrix, display_labels, fname=None):\n",
    "    labels = list(display_labels)\n",
    "    df = pd.DataFrame(confusion_matrix, index=labels, columns=labels)\n",
    "    plt.figure(figsize=(7, 5))\n",
    "    sn.heatmap(df, cmap=\"Blues\", annot=True, fmt=\"d\", cbar=False)\n",
    "    plt.ylabel(\"Actual class\")\n",
    "    plt.xlabel(\"Predicted class\")\n",
    "    if fname:\n",
    "        plt.savefig(fname, dpi=300, bbox_inches=\"tight\")\n",
    "\n",
    "def eval(model, loader, device, class_names, fname=None):\n",
    "    model.eval()\n",
    "    all_probs = []\n",
    "    all_labels = []\n",
    "    idx = 0\n",
    "\n",
    "    with torch.no_grad():\n",
    "        for batch in tqdm(loader):\n",
    "            idx += 1\n",
    "            gnn_batch, (mvcnn_data, mvcnn_labels) = batch\n",
    "            x, edge_index, labels = gnn_batch.x.to(device), gnn_batch.edge_index.to(device), gnn_batch.y.to(device)\n",
    "            labels -=1 # to fit with class indices\n",
    "            mvcnn_data, mvcnn_labels = mvcnn_data.to(device), mvcnn_labels.to(device)\n",
    "            outputs = model(x, edge_index.t(), gnn_batch.batch.to(device), mvcnn_data)\n",
    "\n",
    "            probs = F.softmax(outputs, dim=1)\n",
    "            \n",
    "            all_probs.append(probs.cpu().detach().numpy())\n",
    "            all_labels.append(labels.cpu().numpy())\n",
    "            \n",
    "            if idx == 1000:\n",
    "                break\n",
    "\n",
    "    all_probs = np.concatenate(all_probs)\n",
    "    all_labels = np.concatenate(all_labels)\n",
    "    result = calc_metrics(all_probs, all_labels)\n",
    "    predictions = np.argmax(all_probs, axis=1)\n",
    "    confusion_matrix = metrics.confusion_matrix(all_labels, predictions)\n",
    "    plot_confusion_matrix(confusion_matrix, class_names, fname=fname)\n",
    "    return all_labels, all_probs"
   ]
  },
  {
   "cell_type": "code",
   "execution_count": 23,
   "id": "monthly-operations",
   "metadata": {
    "scrolled": true
   },
   "outputs": [
    {
     "name": "stderr",
     "output_type": "stream",
     "text": [
      "  3%|▌                    | 999/34299 [32:56<18:18:19,  1.98s/it]\n"
     ]
    },
    {
     "name": "stdout",
     "output_type": "stream",
     "text": [
      "[8 8 8 8 2 8 8 8 8 8 8 8 8 8 8 8 8 8 8 8 8 8 9 8 8 8 8 8 8 2 8 8 8 8 8 8 8\n",
      " 8 8 8 8 8 8 8 8 8 8 8 8 8 8 9 2 8 8 8 8 8 8 9 8 8 8 8 8 8 8 8 8 2 8 9 8 8\n",
      " 8 8 9 8 8 8 8 8 8 8 8 8 8 9 2 8 8 8 8 8 8 8 8 8 8 8 8 8 8 2 8 8 8 8 2 8 8\n",
      " 8 8 8 8 8 8 8 8 8 8 2 8 8 8 8 8 8 8 8 8 8 8 8 8 8 8 8 2 8 8 8 8 8 8 8 2 9\n",
      " 8 8 8 2 8 2 8 8 8 8 8 9 8 8 8 9 8 8 8 8 8 8 8 8 8 8 8 2 8 8 8 2 8 8 8 8 8\n",
      " 8 2 8 8 8 8 8 8 8 8 8 2 8 8 8 8 8 8 8 8 8 8 9 8 8 8 8 8 2 8 9 2 8 2 8 8 9\n",
      " 8 8 8 8 8 8 8 2 8 8 8 8 9 8 8 8 9 8 8 8 8 8 8 8 8 2 8 8 2 8 8 8 8 8 8 8 8\n",
      " 8 8 8 8 8 8 8 8 8 8 8 9 2 8 8 2 8 8 8 8 8 8 8 8 8 8 8 8 8 8 8 8 8 8 8 8 9\n",
      " 8 8 8 8 8 8 8 8 2 8 8 8 8 8 8 8 8 2 8 8 8 8 8 8 2 8 8 8 8 8 8 8 8 8 8 8 9\n",
      " 8 8 2 8 8 8 8 8 8 8 8 8 8 8 2 8 8 8 8 8 8 8 8 2 8 8 8 8 2 8 8 8 8 9 8 8 8\n",
      " 8 8 8 8 8 8 8 8 8 8 8 9 8 8 8 8 8 8 8 8 8 8 2 8 8 8 8 8 8 8 8 8 8 8 8 8 9\n",
      " 8 8 8 8 8 8 8 8 8 8 8 8 8 8 8 8 8 8 8 8 8 8 8 8 8 8 8 9 8 8 8 8 8 8 2 8 8\n",
      " 8 8 2 8 2 8 8 8 2 8 8 9 8 2 8 8 8 8 8 2 2 8 8 8 8 8 8 8 8 8 2 8 8 8 8 8 8\n",
      " 8 8 2 9 8 8 8 8 8 8 8 8 8 8 2 8 8 8 8 8 8 8 8 2 8 2 2 8 2 8 8 8 8 2 8 8 8\n",
      " 8 2 8 2 8 8 8 8 8 8 8 8 8 2 2 8 8 2 8 8 8 2 8 8 8 8 8 8 8 8 8 8 8 8 8 8 8\n",
      " 8 8 8 8 8 8 8 8 8 2 9 8 8 8 8 8 8 8 9 8 8 8 2 8 8 8 8 8 2 8 8 8 2 9 8 8 8\n",
      " 8 8 8 9 8 8 8 8 8 8 8 8 8 8 8 8 8 8 2 8 8 8 8 8 9 8 8 9 2 8 8 8 8 8 9 8 8\n",
      " 8 2 8 9 8 8 9 2 8 8 8 8 8 8 8 8 8 9 8 8 8 8 8 8 8 2 8 8 9 8 2 8 2 8 8 8 8\n",
      " 8 8 8 9 9 8 8 8 8 2 8 9 8 8 8 8 8 8 8 8 8 8 8 8 2 2 8 8 8 8 8 8 8 8 8 2 8\n",
      " 8 8 8 8 8 8 2 8 8 8 8 8 8 8 8 2 8 2 8 8 2 8 8 8 9 8 8 8 8 8 9 8 8 8 8 8 8\n",
      " 8 8 8 8 9 9 8 8 8 8 8 8 8 8 8 8 8 8 8 8 8 8 8 2 8 2 2 8 8 8 8 8 8 2 8 8 8\n",
      " 8 2 8 8 8 8 8 8 8 8 8 2 2 8 8 8 2 8 8 8 8 8 8 8 8 8 8 2 2 8 8 8 8 8 8 2 8\n",
      " 2 8 2 8 8 2 8 8 8 8 8 8 8 8 8 8 8 8 8 8 8 8 8 8 8 8 8 8 8 2 8 8 8 8 8 8 8\n",
      " 8 8 8 8 8 8 8 8 8 9 8 8 8 8 8 8 8 8 2 8 8 8 8 8 8 8 8 9 8 8 8 8 8 8 8 8 8\n",
      " 8 8 8 8 8 2 2 8 8 8 8 8 8 8 8 8 8 8 8 8 2 2 8 8 8 8 8 8 8 8 8 8 8 8 8 8 8\n",
      " 8 8 8 8 9 8 8 8 9 8 8 8 8 9 8 8 8 8 8 8 8 8 8 8 8 8 8 8 8 8 8 8 8 8 8 9 8\n",
      " 8 8 8 8 8 8 8 2 2 8 8 8 8 8 8 2 8 8 8 8 8 8 8 8 8 8 8 8 8 8 8 8 8 8 8 8 8\n",
      " 9]\n"
     ]
    },
    {
     "name": "stderr",
     "output_type": "stream",
     "text": [
      "/Users/avishagnevo/Desktop/archi_project/ifcnet-models-master/ifcnet-env/lib/python3.9/site-packages/sklearn/metrics/_classification.py:1509: UndefinedMetricWarning: Precision is ill-defined and being set to 0.0 in labels with no predicted samples. Use `zero_division` parameter to control this behavior.\n",
      "  _warn_prf(average, modifier, f\"{metric.capitalize()} is\", len(result))\n"
     ]
    },
    {
     "data": {
      "text/plain": [
       "(array([8, 8, 9, 8, 2, 8, 8, 6, 8, 8, 8, 0, 0, 8, 0, 2, 8, 2, 1, 0, 2, 4,\n",
       "        0, 8, 0, 8, 0, 8, 8, 2, 8, 8, 8, 8, 3, 8, 8, 8, 8, 8, 8, 9, 8, 8,\n",
       "        0, 8, 1, 8, 8, 0, 6, 9, 2, 8, 6, 8, 8, 0, 0, 9, 8, 0, 9, 8, 8, 0,\n",
       "        8, 8, 9, 2, 8, 6, 8, 1, 5, 8, 9, 8, 8, 8, 8, 8, 8, 8, 6, 2, 4, 9,\n",
       "        2, 0, 8, 8, 8, 0, 8, 1, 8, 8, 8, 8, 8, 8, 8, 2, 0, 0, 8, 8, 2, 8,\n",
       "        8, 9, 0, 8, 8, 8, 8, 8, 8, 3, 8, 2, 8, 6, 8, 8, 8, 2, 1, 8, 8, 8,\n",
       "        8, 0, 8, 8, 8, 2, 2, 8, 8, 8, 8, 8, 8, 8, 2, 3, 1, 8, 8, 2, 1, 2,\n",
       "        1, 8, 0, 8, 8, 9, 8, 8, 3, 9, 0, 0, 8, 8, 8, 9, 3, 8, 8, 3, 8, 2,\n",
       "        0, 3, 8, 2, 8, 8, 1, 8, 1, 1, 3, 2, 8, 8, 8, 4, 9, 0, 8, 9, 3, 8,\n",
       "        8, 9, 8, 0, 0, 8, 8, 8, 8, 9, 8, 8, 0, 8, 8, 2, 8, 9, 2, 8, 3, 0,\n",
       "        8, 3, 2, 2, 8, 8, 8, 8, 0, 2, 8, 5, 8, 8, 9, 9, 9, 8, 4, 8, 8, 8,\n",
       "        8, 8, 8, 8, 8, 2, 8, 0, 2, 8, 0, 8, 8, 8, 4, 8, 8, 1, 8, 8, 8, 8,\n",
       "        2, 8, 8, 8, 1, 9, 6, 2, 1, 8, 2, 1, 8, 8, 1, 0, 2, 8, 3, 8, 8, 8,\n",
       "        8, 1, 9, 8, 0, 8, 8, 8, 8, 9, 8, 6, 1, 8, 8, 0, 8, 8, 2, 8, 8, 3,\n",
       "        9, 8, 8, 8, 9, 2, 8, 8, 8, 8, 2, 8, 2, 0, 8, 8, 0, 9, 9, 1, 8, 8,\n",
       "        0, 8, 3, 8, 8, 2, 8, 8, 8, 0, 3, 0, 9, 8, 8, 8, 1, 2, 8, 0, 8, 6,\n",
       "        8, 0, 7, 0, 3, 8, 1, 1, 8, 2, 0, 8, 8, 8, 2, 8, 6, 8, 7, 0, 0, 8,\n",
       "        0, 8, 8, 6, 7, 3, 7, 3, 6, 8, 8, 8, 8, 1, 8, 3, 8, 8, 2, 8, 1, 6,\n",
       "        1, 8, 8, 8, 8, 8, 0, 8, 8, 9, 9, 8, 0, 8, 8, 8, 8, 8, 8, 1, 8, 0,\n",
       "        9, 8, 8, 9, 8, 8, 3, 8, 7, 1, 8, 8, 8, 8, 8, 8, 9, 0, 8, 6, 8, 9,\n",
       "        1, 2, 3, 0, 8, 8, 2, 8, 2, 0, 8, 0, 2, 8, 0, 0, 8, 2, 0, 0, 8, 8,\n",
       "        8, 3, 2, 6, 6, 8, 0, 8, 8, 8, 8, 0, 2, 8, 8, 0, 0, 8, 9, 8, 8, 2,\n",
       "        9, 9, 0, 3, 0, 1, 8, 9, 0, 0, 8, 4, 8, 8, 8, 8, 9, 1, 4, 7, 2, 6,\n",
       "        2, 0, 2, 2, 3, 8, 1, 8, 2, 8, 4, 8, 8, 2, 8, 2, 8, 0, 8, 6, 2, 8,\n",
       "        6, 8, 8, 2, 3, 8, 8, 3, 8, 8, 8, 2, 4, 9, 2, 8, 8, 4, 3, 8, 8, 8,\n",
       "        0, 8, 4, 8, 6, 8, 7, 9, 1, 8, 3, 8, 0, 8, 2, 9, 0, 8, 8, 8, 2, 8,\n",
       "        8, 9, 3, 8, 8, 2, 0, 3, 8, 8, 8, 2, 8, 8, 3, 2, 1, 3, 8, 2, 8, 8,\n",
       "        8, 9, 3, 8, 8, 8, 8, 1, 8, 6, 8, 8, 0, 8, 0, 1, 2, 8, 0, 8, 8, 8,\n",
       "        9, 8, 0, 9, 2, 0, 8, 1, 8, 7, 3, 1, 8, 3, 0, 8, 9, 0, 8, 9, 2, 0,\n",
       "        8, 8, 8, 1, 9, 0, 0, 6, 9, 8, 8, 3, 8, 8, 8, 0, 2, 8, 8, 3, 8, 2,\n",
       "        9, 2, 8, 8, 8, 1, 0, 9, 8, 3, 9, 8, 8, 8, 1, 2, 1, 0, 8, 8, 8, 0,\n",
       "        8, 8, 7, 8, 8, 8, 0, 9, 2, 2, 8, 8, 8, 8, 8, 9, 0, 3, 8, 2, 8, 8,\n",
       "        0, 9, 9, 8, 5, 2, 8, 0, 8, 8, 5, 8, 8, 1, 2, 1, 2, 9, 8, 2, 9, 1,\n",
       "        8, 3, 8, 8, 0, 8, 3, 9, 0, 1, 8, 0, 0, 8, 8, 8, 1, 8, 9, 2, 8, 8,\n",
       "        8, 2, 8, 3, 8, 3, 3, 8, 3, 8, 8, 8, 8, 8, 8, 2, 8, 2, 2, 8, 2, 8,\n",
       "        0, 9, 8, 3, 3, 0, 1, 3, 2, 9, 8, 8, 3, 8, 0, 0, 2, 8, 2, 2, 1, 1,\n",
       "        8, 2, 0, 8, 3, 2, 8, 1, 9, 9, 8, 8, 2, 2, 1, 0, 8, 3, 1, 3, 2, 0,\n",
       "        2, 8, 2, 8, 8, 2, 8, 0, 8, 8, 9, 3, 1, 1, 8, 8, 8, 8, 8, 9, 8, 8,\n",
       "        8, 0, 8, 8, 8, 8, 2, 2, 6, 9, 8, 0, 8, 0, 0, 8, 8, 8, 8, 6, 8, 8,\n",
       "        8, 8, 3, 8, 0, 8, 8, 2, 8, 0, 8, 2, 0, 8, 8, 3, 8, 6, 8, 9, 9, 0,\n",
       "        8, 3, 8, 1, 8, 0, 8, 8, 8, 8, 8, 2, 8, 2, 2, 8, 8, 8, 8, 0, 1, 8,\n",
       "        8, 8, 8, 8, 8, 6, 2, 2, 2, 0, 8, 8, 8, 8, 8, 9, 8, 1, 8, 8, 8, 8,\n",
       "        8, 8, 8, 7, 9, 9, 8, 0, 8, 3, 1, 8, 7, 8, 9, 0, 8, 8, 0, 3, 8, 0,\n",
       "        8, 9, 8, 8, 0, 8, 8, 8, 3, 8, 8, 8, 8, 8, 0, 6, 8, 8, 8, 8, 8, 8,\n",
       "        8, 2, 2, 8, 8, 8, 8, 0, 8, 2, 8, 8, 8, 2, 8, 8, 8, 8, 0, 8, 0, 8,\n",
       "        8, 8, 0, 1, 0, 8, 6, 2, 8, 3]),\n",
       " array([[0.13084236, 0.03940185, 0.19037911, ..., 0.00691779, 0.3994818 ,\n",
       "         0.10760257],\n",
       "        [0.05058201, 0.01897243, 0.00840081, ..., 0.00458271, 0.7556709 ,\n",
       "         0.0658451 ],\n",
       "        [0.14252791, 0.03881849, 0.1937476 , ..., 0.00649084, 0.3803251 ,\n",
       "         0.11702105],\n",
       "        ...,\n",
       "        [0.17113963, 0.05206972, 0.05133168, ..., 0.00696579, 0.31346852,\n",
       "         0.26551265],\n",
       "        [0.09638513, 0.02613549, 0.02967494, ..., 0.00299033, 0.6448188 ,\n",
       "         0.11005025],\n",
       "        [0.16453728, 0.05494499, 0.02915472, ..., 0.00702288, 0.28266084,\n",
       "         0.32333267]], dtype=float32))"
      ]
     },
     "execution_count": 23,
     "metadata": {},
     "output_type": "execute_result"
    },
    {
     "data": {
      "image/png": "[encoded data removed]",
      "text/plain": [
       "<Figure size 700x500 with 1 Axes>"
      ]
     },
     "metadata": {},
     "output_type": "display_data"
    }
   ],
   "source": [
    "eval(hybrid_model, train_loader, device, class_names)"
   ]
  },
  {
   "cell_type": "code",
   "execution_count": null,
   "id": "later-trustee",
   "metadata": {},
   "outputs": [
    {
     "name": "stderr",
     "output_type": "stream",
     "text": [
      "  0%|▏                                                               | 27/8575 [00:52<4:28:23,  1.88s/it]"
     ]
    }
   ],
   "source": [
    "eval(hybrid_model, val_loader, device, class_names)"
   ]
  },
  {
   "cell_type": "code",
   "execution_count": 108,
   "id": "inside-backup",
   "metadata": {},
   "outputs": [
    {
     "name": "stderr",
     "output_type": "stream",
     "text": [
      "  2%|▌                       | 999/42874 [00:14<10:28, 66.67it/s]\n",
      "/Users/avishagnevo/Desktop/archi_project/ifcnet-models-master/ifcnet-env/lib/python3.9/site-packages/sklearn/metrics/_classification.py:2458: UserWarning: y_pred contains classes not in y_true\n",
      "  warnings.warn(\"y_pred contains classes not in y_true\")\n",
      "/Users/avishagnevo/Desktop/archi_project/ifcnet-models-master/ifcnet-env/lib/python3.9/site-packages/sklearn/metrics/_classification.py:1509: UndefinedMetricWarning: Precision is ill-defined and being set to 0.0 in labels with no predicted samples. Use `zero_division` parameter to control this behavior.\n",
      "  _warn_prf(average, modifier, f\"{metric.capitalize()} is\", len(result))\n",
      "/Users/avishagnevo/Desktop/archi_project/ifcnet-models-master/ifcnet-env/lib/python3.9/site-packages/sklearn/metrics/_classification.py:1509: UndefinedMetricWarning: Recall is ill-defined and being set to 0.0 in labels with no true samples. Use `zero_division` parameter to control this behavior.\n",
      "  _warn_prf(average, modifier, f\"{metric.capitalize()} is\", len(result))\n"
     ]
    },
    {
     "name": "stdout",
     "output_type": "stream",
     "text": [
      "[8 8 8 8 8 8 8 8 8 1 8 8 8 8 8 8 8 8 8 8 8 8 8 8 8 8 8 8 8 8 8 8 8 8 8 9 9\n",
      " 9 8 8 8 8 8 8 8 8 8 8 8 8 8 8 8 8 8 8 8 8 8 8 8 8 8 8 8 8 8 8 8 8 8 8 8 8\n",
      " 8 9 8 8 8 8 8 8 8 8 8 8 8 8 8 8 8 8 8 8 8 9 8 8 8 9 9 8 9 9 8 8 8 8 9 8 8\n",
      " 8 9 9 8 8 8 8 8 8 8 8 8 8 8 8 8 8 8 8 8 8 8 8 8 8 8 8 8 8 8 8 8 8 8 8 8 8\n",
      " 8 8 8 8 8 8 8 8 8 8 8 8 8 8 8 8 8 8 8 8 8 8 8 8 8 8 8 8 8 8 8 8 8 8 8 8 8\n",
      " 8 8 8 8 8 8 8 8 8 8 8 8 8 9 8 8 8 8 8 8 8 8 9 9 9 8 8 8 8 8 8 8 8 8 8 8 8\n",
      " 8 8 8 8 8 8 8 8 8 8 8 9 8 8 8 8 8 8 8 8 9 9 9 8 8 8 8 8 9 8 8 8 8 8 8 8 8\n",
      " 8 8 8 8 8 8 8 8 8 9 8 8 8 8 8 8 8 8 9 9 9 8 8 8 8 2 8 2 8 8 8 8 8 8 8 8 8\n",
      " 8 8 8 8 8 8 8 9 8 8 8 8 8 8 8 8 9 9 9 8 8 8 8 8 8 8 8 8 8 8 8 8 8 8 8 8 8\n",
      " 8 8 8 8 8 9 8 8 8 8 8 8 8 8 9 9 9 8 8 8 8 8 8 8 8 8 8 8 8 8 8 8 8 8 8 8 8\n",
      " 8 8 8 8 8 8 8 8 8 8 8 8 8 8 8 8 8 8 8 8 8 8 8 8 8 8 8 8 9 8 8 8 8 8 8 8 8\n",
      " 9 9 9 8 8 8 8 8 8 8 8 8 8 8 8 8 8 8 8 8 8 8 8 8 8 8 9 8 8 8 8 8 8 8 8 9 9\n",
      " 9 8 8 8 8 8 8 8 8 8 8 8 8 8 8 8 8 8 8 8 8 8 8 8 9 8 8 8 8 8 8 8 8 9 9 9 8\n",
      " 8 8 8 2 8 2 8 8 8 8 8 8 8 8 8 8 8 8 8 8 8 8 9 8 8 8 8 8 8 8 8 9 9 9 8 8 8\n",
      " 8 2 8 2 8 8 8 8 8 8 8 8 8 8 8 8 8 8 8 8 8 8 8 8 8 8 8 8 8 8 8 8 8 8 8 8 8\n",
      " 8 8 8 8 8 8 9 9 9 9 9 9 9 8 9 8 8 9 8 9 1 8 8 8 8 8 8 8 8 8 8 8 8 8 8 8 8\n",
      " 8 9 9 9 9 8 8 8 8 8 9 9 8 9 9 8 8 9 8 9 8 8 8 8 8 8 8 8 8 8 8 8 8 8 8 8 8\n",
      " 8 8 8 8 9 8 8 8 8 8 8 8 8 8 8 8 8 8 8 8 8 8 8 8 8 8 8 8 8 8 8 8 8 8 8 8 8\n",
      " 8 8 8 8 8 8 8 8 9 9 9 9 9 9 9 8 8 8 8 9 8 8 8 8 8 8 8 8 8 8 8 8 8 8 8 8 8\n",
      " 8 8 8 8 8 8 8 8 8 8 8 8 8 8 8 8 8 8 8 8 8 8 8 8 9 9 9 9 9 9 9 8 8 8 8 9 8\n",
      " 8 8 8 8 8 8 8 8 8 8 8 8 8 8 8 8 8 8 8 8 8 8 8 8 8 8 8 8 8 8 8 8 8 8 8 8 8\n",
      " 8 8 8 9 9 9 9 9 9 9 8 8 8 8 9 8 8 8 8 8 8 8 8 8 8 8 8 8 8 8 8 8 8 8 8 8 8\n",
      " 8 8 8 8 8 8 8 8 8 8 8 8 8 8 8 8 8 8 8 9 9 9 9 9 9 9 8 8 8 8 9 8 8 8 8 8 8\n",
      " 8 8 8 8 8 8 8 8 8 8 8 8 8 8 8 8 8 8 8 8 8 8 8 8 8 8 8 8 8 8 8 8 8 8 8 9 9\n",
      " 9 9 9 9 9 8 8 8 8 9 8 8 8 8 8 8 8 8 8 8 8 8 8 8 8 8 8 8 8 8 8 8 8 8 8 8 8\n",
      " 8 8 8 8 8 8 8 8 8 8 8 8 8 8 9 9 9 9 9 9 9 8 8 8 8 9 8 8 8 8 8 8 8 8 8 8 8\n",
      " 8 8 8 8 8 8 8 8 8 8 8 8 8 8 8 8 8 8 8 8 8 8 8 8 8 8 8 8 8 8 9 9 9 9 9 9 9\n",
      " 8]\n"
     ]
    },
    {
     "ename": "ValueError",
     "evalue": "Shape of passed values is (7, 7), indices imply (10, 10)",
     "output_type": "error",
     "traceback": [
      "\u001b[0;31m---------------------------------------------------------------------------\u001b[0m",
      "\u001b[0;31mValueError\u001b[0m                                Traceback (most recent call last)",
      "Cell \u001b[0;32mIn[108], line 1\u001b[0m\n\u001b[0;32m----> 1\u001b[0m test_labels, test_probs \u001b[38;5;241m=\u001b[39m \u001b[38;5;28;43meval\u001b[39;49m\u001b[43m(\u001b[49m\u001b[43mmodel\u001b[49m\u001b[43m,\u001b[49m\u001b[43m \u001b[49m\u001b[43mtest_loader\u001b[49m\u001b[43m,\u001b[49m\u001b[43m \u001b[49m\u001b[43mdevice\u001b[49m\u001b[43m,\u001b[49m\n\u001b[1;32m      2\u001b[0m \u001b[43m                               \u001b[49m\u001b[43mclass_names\u001b[49m\u001b[43m,\u001b[49m\u001b[43m \u001b[49m\u001b[43mfname\u001b[49m\u001b[38;5;241;43m=\u001b[39;49m\u001b[38;5;124;43m\"\u001b[39;49m\u001b[38;5;124;43m../reports/figures/mvcnn_confusion.png\u001b[39;49m\u001b[38;5;124;43m\"\u001b[39;49m\u001b[43m)\u001b[49m\n",
      "Cell \u001b[0;32mIn[105], line 55\u001b[0m, in \u001b[0;36meval\u001b[0;34m(model, loader, device, class_names, fname)\u001b[0m\n\u001b[1;32m     53\u001b[0m predictions \u001b[38;5;241m=\u001b[39m np\u001b[38;5;241m.\u001b[39margmax(all_probs, axis\u001b[38;5;241m=\u001b[39m\u001b[38;5;241m1\u001b[39m)\n\u001b[1;32m     54\u001b[0m confusion_matrix \u001b[38;5;241m=\u001b[39m metrics\u001b[38;5;241m.\u001b[39mconfusion_matrix(all_labels, predictions)\n\u001b[0;32m---> 55\u001b[0m \u001b[43mplot_confusion_matrix\u001b[49m\u001b[43m(\u001b[49m\u001b[43mconfusion_matrix\u001b[49m\u001b[43m,\u001b[49m\u001b[43m \u001b[49m\u001b[43mclass_names\u001b[49m\u001b[43m,\u001b[49m\u001b[43m \u001b[49m\u001b[43mfname\u001b[49m\u001b[38;5;241;43m=\u001b[39;49m\u001b[43mfname\u001b[49m\u001b[43m)\u001b[49m\n\u001b[1;32m     56\u001b[0m \u001b[38;5;28;01mreturn\u001b[39;00m all_labels, all_probs\n",
      "Cell \u001b[0;32mIn[105], line 21\u001b[0m, in \u001b[0;36mplot_confusion_matrix\u001b[0;34m(confusion_matrix, display_labels, fname)\u001b[0m\n\u001b[1;32m     19\u001b[0m \u001b[38;5;28;01mdef\u001b[39;00m \u001b[38;5;21mplot_confusion_matrix\u001b[39m(confusion_matrix, display_labels, fname\u001b[38;5;241m=\u001b[39m\u001b[38;5;28;01mNone\u001b[39;00m):\n\u001b[1;32m     20\u001b[0m     labels \u001b[38;5;241m=\u001b[39m \u001b[38;5;28mlist\u001b[39m(display_labels)\n\u001b[0;32m---> 21\u001b[0m     df \u001b[38;5;241m=\u001b[39m \u001b[43mpd\u001b[49m\u001b[38;5;241;43m.\u001b[39;49m\u001b[43mDataFrame\u001b[49m\u001b[43m(\u001b[49m\u001b[43mconfusion_matrix\u001b[49m\u001b[43m,\u001b[49m\u001b[43m \u001b[49m\u001b[43mindex\u001b[49m\u001b[38;5;241;43m=\u001b[39;49m\u001b[43mlabels\u001b[49m\u001b[43m,\u001b[49m\u001b[43m \u001b[49m\u001b[43mcolumns\u001b[49m\u001b[38;5;241;43m=\u001b[39;49m\u001b[43mlabels\u001b[49m\u001b[43m)\u001b[49m\n\u001b[1;32m     22\u001b[0m     plt\u001b[38;5;241m.\u001b[39mfigure(figsize\u001b[38;5;241m=\u001b[39m(\u001b[38;5;241m7\u001b[39m, \u001b[38;5;241m5\u001b[39m))\n\u001b[1;32m     23\u001b[0m     sn\u001b[38;5;241m.\u001b[39mheatmap(df, cmap\u001b[38;5;241m=\u001b[39m\u001b[38;5;124m\"\u001b[39m\u001b[38;5;124mBlues\u001b[39m\u001b[38;5;124m\"\u001b[39m, annot\u001b[38;5;241m=\u001b[39m\u001b[38;5;28;01mTrue\u001b[39;00m, fmt\u001b[38;5;241m=\u001b[39m\u001b[38;5;124m\"\u001b[39m\u001b[38;5;124md\u001b[39m\u001b[38;5;124m\"\u001b[39m, cbar\u001b[38;5;241m=\u001b[39m\u001b[38;5;28;01mFalse\u001b[39;00m)\n",
      "File \u001b[0;32m~/Desktop/archi_project/ifcnet-models-master/ifcnet-env/lib/python3.9/site-packages/pandas/core/frame.py:816\u001b[0m, in \u001b[0;36mDataFrame.__init__\u001b[0;34m(self, data, index, columns, dtype, copy)\u001b[0m\n\u001b[1;32m    805\u001b[0m         mgr \u001b[38;5;241m=\u001b[39m dict_to_mgr(\n\u001b[1;32m    806\u001b[0m             \u001b[38;5;66;03m# error: Item \"ndarray\" of \"Union[ndarray, Series, Index]\" has no\u001b[39;00m\n\u001b[1;32m    807\u001b[0m             \u001b[38;5;66;03m# attribute \"name\"\u001b[39;00m\n\u001b[0;32m   (...)\u001b[0m\n\u001b[1;32m    813\u001b[0m             copy\u001b[38;5;241m=\u001b[39m_copy,\n\u001b[1;32m    814\u001b[0m         )\n\u001b[1;32m    815\u001b[0m     \u001b[38;5;28;01melse\u001b[39;00m:\n\u001b[0;32m--> 816\u001b[0m         mgr \u001b[38;5;241m=\u001b[39m \u001b[43mndarray_to_mgr\u001b[49m\u001b[43m(\u001b[49m\n\u001b[1;32m    817\u001b[0m \u001b[43m            \u001b[49m\u001b[43mdata\u001b[49m\u001b[43m,\u001b[49m\n\u001b[1;32m    818\u001b[0m \u001b[43m            \u001b[49m\u001b[43mindex\u001b[49m\u001b[43m,\u001b[49m\n\u001b[1;32m    819\u001b[0m \u001b[43m            \u001b[49m\u001b[43mcolumns\u001b[49m\u001b[43m,\u001b[49m\n\u001b[1;32m    820\u001b[0m \u001b[43m            \u001b[49m\u001b[43mdtype\u001b[49m\u001b[38;5;241;43m=\u001b[39;49m\u001b[43mdtype\u001b[49m\u001b[43m,\u001b[49m\n\u001b[1;32m    821\u001b[0m \u001b[43m            \u001b[49m\u001b[43mcopy\u001b[49m\u001b[38;5;241;43m=\u001b[39;49m\u001b[43mcopy\u001b[49m\u001b[43m,\u001b[49m\n\u001b[1;32m    822\u001b[0m \u001b[43m            \u001b[49m\u001b[43mtyp\u001b[49m\u001b[38;5;241;43m=\u001b[39;49m\u001b[43mmanager\u001b[49m\u001b[43m,\u001b[49m\n\u001b[1;32m    823\u001b[0m \u001b[43m        \u001b[49m\u001b[43m)\u001b[49m\n\u001b[1;32m    825\u001b[0m \u001b[38;5;66;03m# For data is list-like, or Iterable (will consume into list)\u001b[39;00m\n\u001b[1;32m    826\u001b[0m \u001b[38;5;28;01melif\u001b[39;00m is_list_like(data):\n",
      "File \u001b[0;32m~/Desktop/archi_project/ifcnet-models-master/ifcnet-env/lib/python3.9/site-packages/pandas/core/internals/construction.py:336\u001b[0m, in \u001b[0;36mndarray_to_mgr\u001b[0;34m(values, index, columns, dtype, copy, typ)\u001b[0m\n\u001b[1;32m    331\u001b[0m \u001b[38;5;66;03m# _prep_ndarraylike ensures that values.ndim == 2 at this point\u001b[39;00m\n\u001b[1;32m    332\u001b[0m index, columns \u001b[38;5;241m=\u001b[39m _get_axes(\n\u001b[1;32m    333\u001b[0m     values\u001b[38;5;241m.\u001b[39mshape[\u001b[38;5;241m0\u001b[39m], values\u001b[38;5;241m.\u001b[39mshape[\u001b[38;5;241m1\u001b[39m], index\u001b[38;5;241m=\u001b[39mindex, columns\u001b[38;5;241m=\u001b[39mcolumns\n\u001b[1;32m    334\u001b[0m )\n\u001b[0;32m--> 336\u001b[0m \u001b[43m_check_values_indices_shape_match\u001b[49m\u001b[43m(\u001b[49m\u001b[43mvalues\u001b[49m\u001b[43m,\u001b[49m\u001b[43m \u001b[49m\u001b[43mindex\u001b[49m\u001b[43m,\u001b[49m\u001b[43m \u001b[49m\u001b[43mcolumns\u001b[49m\u001b[43m)\u001b[49m\n\u001b[1;32m    338\u001b[0m \u001b[38;5;28;01mif\u001b[39;00m typ \u001b[38;5;241m==\u001b[39m \u001b[38;5;124m\"\u001b[39m\u001b[38;5;124marray\u001b[39m\u001b[38;5;124m\"\u001b[39m:\n\u001b[1;32m    339\u001b[0m     \u001b[38;5;28;01mif\u001b[39;00m \u001b[38;5;28missubclass\u001b[39m(values\u001b[38;5;241m.\u001b[39mdtype\u001b[38;5;241m.\u001b[39mtype, \u001b[38;5;28mstr\u001b[39m):\n",
      "File \u001b[0;32m~/Desktop/archi_project/ifcnet-models-master/ifcnet-env/lib/python3.9/site-packages/pandas/core/internals/construction.py:420\u001b[0m, in \u001b[0;36m_check_values_indices_shape_match\u001b[0;34m(values, index, columns)\u001b[0m\n\u001b[1;32m    418\u001b[0m passed \u001b[38;5;241m=\u001b[39m values\u001b[38;5;241m.\u001b[39mshape\n\u001b[1;32m    419\u001b[0m implied \u001b[38;5;241m=\u001b[39m (\u001b[38;5;28mlen\u001b[39m(index), \u001b[38;5;28mlen\u001b[39m(columns))\n\u001b[0;32m--> 420\u001b[0m \u001b[38;5;28;01mraise\u001b[39;00m \u001b[38;5;167;01mValueError\u001b[39;00m(\u001b[38;5;124mf\u001b[39m\u001b[38;5;124m\"\u001b[39m\u001b[38;5;124mShape of passed values is \u001b[39m\u001b[38;5;132;01m{\u001b[39;00mpassed\u001b[38;5;132;01m}\u001b[39;00m\u001b[38;5;124m, indices imply \u001b[39m\u001b[38;5;132;01m{\u001b[39;00mimplied\u001b[38;5;132;01m}\u001b[39;00m\u001b[38;5;124m\"\u001b[39m)\n",
      "\u001b[0;31mValueError\u001b[0m: Shape of passed values is (7, 7), indices imply (10, 10)"
     ]
    }
   ],
   "source": [
    "test_labels, test_probs = eval(model, test_loader, device,\n",
    "                               class_names, fname=\"../reports/figures/mvcnn_confusion.png\")"
   ]
  },
  {
   "cell_type": "code",
   "execution_count": 98,
   "id": "expected-ultimate",
   "metadata": {},
   "outputs": [
    {
     "ename": "NameError",
     "evalue": "name 'test_labels' is not defined",
     "output_type": "error",
     "traceback": [
      "\u001b[0;31m---------------------------------------------------------------------------\u001b[0m",
      "\u001b[0;31mNameError\u001b[0m                                 Traceback (most recent call last)",
      "Cell \u001b[0;32mIn[98], line 1\u001b[0m\n\u001b[0;32m----> 1\u001b[0m np\u001b[38;5;241m.\u001b[39msavez(\u001b[38;5;124m\"\u001b[39m\u001b[38;5;124mArcGNNProbs.npz\u001b[39m\u001b[38;5;124m\"\u001b[39m, labels\u001b[38;5;241m=\u001b[39m\u001b[43mtest_labels\u001b[49m, probs\u001b[38;5;241m=\u001b[39mtest_probs)\n",
      "\u001b[0;31mNameError\u001b[0m: name 'test_labels' is not defined"
     ]
    }
   ],
   "source": [
    "np.savez(\"ArcGNNProbs.npz\", labels=test_labels, probs=test_probs)"
   ]
  },
  {
   "cell_type": "code",
   "execution_count": null,
   "id": "fossil-chester",
   "metadata": {},
   "outputs": [],
   "source": [
    "test_predictions = np.argmax(test_probs, axis=1)\n",
    "wrong_predictions = np.where(test_labels != test_predictions)[0]"
   ]
  },
  {
   "cell_type": "code",
   "execution_count": null,
   "id": "expressed-gambling",
   "metadata": {},
   "outputs": [],
   "source": []
  }
 ],
 "metadata": {
  "kernelspec": {
   "display_name": "Python 3 (ipykernel)",
   "language": "python",
   "name": "python3"
  },
  "language_info": {
   "codemirror_mode": {
    "name": "ipython",
    "version": 3
   },
   "file_extension": ".py",
   "mimetype": "text/x-python",
   "name": "python",
   "nbconvert_exporter": "python",
   "pygments_lexer": "ipython3",
   "version": "3.9.6"
  }
 },
 "nbformat": 4,
 "nbformat_minor": 5
}
